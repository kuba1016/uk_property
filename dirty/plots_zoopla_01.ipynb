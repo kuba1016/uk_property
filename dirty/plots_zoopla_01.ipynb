{
 "cells": [
  {
   "cell_type": "code",
   "execution_count": 143,
   "metadata": {},
   "outputs": [],
   "source": [
    "import pandas as pd "
   ]
  },
  {
   "cell_type": "code",
   "execution_count": 144,
   "metadata": {},
   "outputs": [],
   "source": [
    "df = pd.read_csv(\"./data.csv\")"
   ]
  },
  {
   "cell_type": "code",
   "execution_count": 145,
   "metadata": {},
   "outputs": [
    {
     "data": {
      "text/html": [
       "<div>\n",
       "<style scoped>\n",
       "    .dataframe tbody tr th:only-of-type {\n",
       "        vertical-align: middle;\n",
       "    }\n",
       "\n",
       "    .dataframe tbody tr th {\n",
       "        vertical-align: top;\n",
       "    }\n",
       "\n",
       "    .dataframe thead th {\n",
       "        text-align: right;\n",
       "    }\n",
       "</style>\n",
       "<table border=\"1\" class=\"dataframe\">\n",
       "  <thead>\n",
       "    <tr style=\"text-align: right;\">\n",
       "      <th></th>\n",
       "      <th>agent</th>\n",
       "      <th>price</th>\n",
       "      <th>address</th>\n",
       "      <th>beds</th>\n",
       "      <th>baths</th>\n",
       "      <th>receptions</th>\n",
       "    </tr>\n",
       "  </thead>\n",
       "  <tbody>\n",
       "    <tr>\n",
       "      <th>0</th>\n",
       "      <td>Countrywide Scotland - Shawlands Sales</td>\n",
       "      <td>£160,000</td>\n",
       "      <td>Parklands View, Glasgow G53</td>\n",
       "      <td>2 beds</td>\n",
       "      <td>2 baths</td>\n",
       "      <td>1 reception</td>\n",
       "    </tr>\n",
       "    <tr>\n",
       "      <th>1</th>\n",
       "      <td>VMH Solicitors</td>\n",
       "      <td>£199,950</td>\n",
       "      <td>Ravenscroft Gardens, Edinburgh EH17</td>\n",
       "      <td>3 beds</td>\n",
       "      <td>1 bath</td>\n",
       "      <td>1 reception</td>\n",
       "    </tr>\n",
       "    <tr>\n",
       "      <th>2</th>\n",
       "      <td>Cullertons</td>\n",
       "      <td>£215,000</td>\n",
       "      <td>20 (2F2) Dean Park Street, Stockbridge EH4</td>\n",
       "      <td>1 bed</td>\n",
       "      <td>NaN</td>\n",
       "      <td>NaN</td>\n",
       "    </tr>\n",
       "    <tr>\n",
       "      <th>3</th>\n",
       "      <td>Stuart and Stuart WS</td>\n",
       "      <td>£225,000</td>\n",
       "      <td>Harrison Road, Edinburgh EH11</td>\n",
       "      <td>1 bed</td>\n",
       "      <td>1 bath</td>\n",
       "      <td>1 reception</td>\n",
       "    </tr>\n",
       "    <tr>\n",
       "      <th>4</th>\n",
       "      <td>Avenue Road Estate Agents</td>\n",
       "      <td>£210,000</td>\n",
       "      <td>7 Southhouse Crescent, Edinburgh EH17</td>\n",
       "      <td>3 beds</td>\n",
       "      <td>2 baths</td>\n",
       "      <td>2 receptions</td>\n",
       "    </tr>\n",
       "  </tbody>\n",
       "</table>\n",
       "</div>"
      ],
      "text/plain": [
       "                                    agent     price  \\\n",
       "0  Countrywide Scotland - Shawlands Sales  £160,000   \n",
       "1                          VMH Solicitors  £199,950   \n",
       "2                              Cullertons  £215,000   \n",
       "3                    Stuart and Stuart WS  £225,000   \n",
       "4               Avenue Road Estate Agents  £210,000   \n",
       "\n",
       "                                      address    beds    baths    receptions  \n",
       "0                 Parklands View, Glasgow G53  2 beds  2 baths   1 reception  \n",
       "1         Ravenscroft Gardens, Edinburgh EH17  3 beds   1 bath   1 reception  \n",
       "2  20 (2F2) Dean Park Street, Stockbridge EH4   1 bed      NaN           NaN  \n",
       "3               Harrison Road, Edinburgh EH11   1 bed   1 bath   1 reception  \n",
       "4       7 Southhouse Crescent, Edinburgh EH17  3 beds  2 baths  2 receptions  "
      ]
     },
     "execution_count": 145,
     "metadata": {},
     "output_type": "execute_result"
    }
   ],
   "source": [
    "df.head()"
   ]
  },
  {
   "cell_type": "code",
   "execution_count": 146,
   "metadata": {},
   "outputs": [
    {
     "name": "stdout",
     "output_type": "stream",
     "text": [
      "<class 'pandas.core.frame.DataFrame'>\n",
      "RangeIndex: 5769 entries, 0 to 5768\n",
      "Data columns (total 6 columns):\n",
      " #   Column      Non-Null Count  Dtype \n",
      "---  ------      --------------  ----- \n",
      " 0   agent       5768 non-null   object\n",
      " 1   price       5768 non-null   object\n",
      " 2   address     5768 non-null   object\n",
      " 3   beds        5537 non-null   object\n",
      " 4   baths       4839 non-null   object\n",
      " 5   receptions  4682 non-null   object\n",
      "dtypes: object(6)\n",
      "memory usage: 270.5+ KB\n"
     ]
    }
   ],
   "source": [
    "df.info()"
   ]
  },
  {
   "cell_type": "code",
   "execution_count": 147,
   "metadata": {},
   "outputs": [],
   "source": [
    "df.dropna(inplace=True)\n",
    "df.drop(df[df.price==\"price\"].index,inplace = True)\n",
    "df.drop(df[df.price==\"POA\"].index,inplace = True)\n",
    "df.price =df.price.str.replace(\"£\",\"\").str.replace(\",\",\"\").astype(int)"
   ]
  },
  {
   "cell_type": "code",
   "execution_count": 148,
   "metadata": {},
   "outputs": [
    {
     "data": {
      "text/plain": [
       "0       160000\n",
       "1       199950\n",
       "3       225000\n",
       "4       210000\n",
       "5       250000\n",
       "         ...  \n",
       "5764    127000\n",
       "5765    235000\n",
       "5766    279500\n",
       "5767    145000\n",
       "5768    277995\n",
       "Name: price, Length: 4548, dtype: int64"
      ]
     },
     "execution_count": 148,
     "metadata": {},
     "output_type": "execute_result"
    }
   ],
   "source": [
    "df.price"
   ]
  },
  {
   "cell_type": "code",
   "execution_count": 149,
   "metadata": {},
   "outputs": [
    {
     "name": "stdout",
     "output_type": "stream",
     "text": [
      "<class 'pandas.core.frame.DataFrame'>\n",
      "Int64Index: 4548 entries, 0 to 5768\n",
      "Data columns (total 6 columns):\n",
      " #   Column      Non-Null Count  Dtype \n",
      "---  ------      --------------  ----- \n",
      " 0   agent       4548 non-null   object\n",
      " 1   price       4548 non-null   int64 \n",
      " 2   address     4548 non-null   object\n",
      " 3   beds        4548 non-null   object\n",
      " 4   baths       4548 non-null   object\n",
      " 5   receptions  4548 non-null   object\n",
      "dtypes: int64(1), object(5)\n",
      "memory usage: 248.7+ KB\n"
     ]
    }
   ],
   "source": [
    "df.info()"
   ]
  },
  {
   "cell_type": "code",
   "execution_count": 150,
   "metadata": {},
   "outputs": [],
   "source": [
    "df.beds = df.beds.str.replace(r\"\\D\",\"\").astype(int)\n",
    "df.loc[df.beds > 5,\"more_tan_5\"] = True\n",
    "df.drop(df[df.more_tan_5 ==True].index, inplace = True)"
   ]
  },
  {
   "cell_type": "code",
   "execution_count": 151,
   "metadata": {},
   "outputs": [
    {
     "name": "stdout",
     "output_type": "stream",
     "text": [
      "<class 'pandas.core.frame.DataFrame'>\n",
      "Int64Index: 4453 entries, 0 to 5768\n",
      "Data columns (total 7 columns):\n",
      " #   Column      Non-Null Count  Dtype \n",
      "---  ------      --------------  ----- \n",
      " 0   agent       4453 non-null   object\n",
      " 1   price       4453 non-null   int64 \n",
      " 2   address     4453 non-null   object\n",
      " 3   beds        4453 non-null   int64 \n",
      " 4   baths       4453 non-null   object\n",
      " 5   receptions  4453 non-null   object\n",
      " 6   more_tan_5  0 non-null      object\n",
      "dtypes: int64(2), object(5)\n",
      "memory usage: 278.3+ KB\n"
     ]
    }
   ],
   "source": [
    "df.info()"
   ]
  },
  {
   "cell_type": "code",
   "execution_count": 152,
   "metadata": {},
   "outputs": [
    {
     "data": {
      "text/plain": [
       "array(['2 baths', '1 bath', '3 baths', '4 baths', '5 baths', '6 baths',\n",
       "       '11 baths'], dtype=object)"
      ]
     },
     "execution_count": 152,
     "metadata": {},
     "output_type": "execute_result"
    }
   ],
   "source": [
    "df.baths.unique()"
   ]
  },
  {
   "cell_type": "code",
   "execution_count": 153,
   "metadata": {},
   "outputs": [],
   "source": [
    "df.baths = df.baths.str.replace(r\"\\D\",\"\").astype(int)\n",
    "\n",
    "df.loc[df.baths > 4,\"more_than_4_baths\"] = True\n",
    "\n",
    "df.drop(df[df.more_than_4_baths ==True].index, inplace = True)"
   ]
  },
  {
   "cell_type": "code",
   "execution_count": 154,
   "metadata": {},
   "outputs": [
    {
     "name": "stdout",
     "output_type": "stream",
     "text": [
      "<class 'pandas.core.frame.DataFrame'>\n",
      "Int64Index: 4436 entries, 0 to 5768\n",
      "Data columns (total 8 columns):\n",
      " #   Column             Non-Null Count  Dtype \n",
      "---  ------             --------------  ----- \n",
      " 0   agent              4436 non-null   object\n",
      " 1   price              4436 non-null   int64 \n",
      " 2   address            4436 non-null   object\n",
      " 3   beds               4436 non-null   int64 \n",
      " 4   baths              4436 non-null   int64 \n",
      " 5   receptions         4436 non-null   object\n",
      " 6   more_tan_5         0 non-null      object\n",
      " 7   more_than_4_baths  0 non-null      object\n",
      "dtypes: int64(3), object(5)\n",
      "memory usage: 311.9+ KB\n"
     ]
    }
   ],
   "source": [
    "df.info()"
   ]
  },
  {
   "cell_type": "code",
   "execution_count": 155,
   "metadata": {},
   "outputs": [
    {
     "data": {
      "text/plain": [
       "array(['1 reception', '2 receptions', '3 receptions', '5 receptions',\n",
       "       '4 receptions', '6 receptions', '7 receptions'], dtype=object)"
      ]
     },
     "execution_count": 155,
     "metadata": {},
     "output_type": "execute_result"
    }
   ],
   "source": [
    "df.receptions.unique()"
   ]
  },
  {
   "cell_type": "code",
   "execution_count": 156,
   "metadata": {},
   "outputs": [],
   "source": [
    "df.receptions=df.receptions.str.replace(r\"\\D\",\"\").astype(int)"
   ]
  },
  {
   "cell_type": "code",
   "execution_count": 157,
   "metadata": {},
   "outputs": [],
   "source": [
    "df.loc[df.receptions > 3, \"more_than_3_recep\"] = True"
   ]
  },
  {
   "cell_type": "code",
   "execution_count": 158,
   "metadata": {},
   "outputs": [],
   "source": [
    "df.drop(df[df.more_than_3_recep == True].index, inplace=True)"
   ]
  },
  {
   "cell_type": "code",
   "execution_count": 159,
   "metadata": {},
   "outputs": [
    {
     "name": "stdout",
     "output_type": "stream",
     "text": [
      "<class 'pandas.core.frame.DataFrame'>\n",
      "Int64Index: 4390 entries, 0 to 5768\n",
      "Data columns (total 9 columns):\n",
      " #   Column             Non-Null Count  Dtype \n",
      "---  ------             --------------  ----- \n",
      " 0   agent              4390 non-null   object\n",
      " 1   price              4390 non-null   int64 \n",
      " 2   address            4390 non-null   object\n",
      " 3   beds               4390 non-null   int64 \n",
      " 4   baths              4390 non-null   int64 \n",
      " 5   receptions         4390 non-null   int64 \n",
      " 6   more_tan_5         0 non-null      object\n",
      " 7   more_than_4_baths  0 non-null      object\n",
      " 8   more_than_3_recep  0 non-null      object\n",
      "dtypes: int64(4), object(5)\n",
      "memory usage: 343.0+ KB\n"
     ]
    }
   ],
   "source": [
    "df.info()"
   ]
  },
  {
   "cell_type": "code",
   "execution_count": null,
   "metadata": {},
   "outputs": [],
   "source": []
  },
  {
   "cell_type": "code",
   "execution_count": 160,
   "metadata": {},
   "outputs": [],
   "source": [
    "df[\"post_code\"] = df.address.str.extract(r\"([A-Z]{1,2}[0-9]{1,2})\")"
   ]
  },
  {
   "cell_type": "code",
   "execution_count": 161,
   "metadata": {},
   "outputs": [
    {
     "name": "stdout",
     "output_type": "stream",
     "text": [
      "<class 'pandas.core.frame.DataFrame'>\n",
      "Int64Index: 4390 entries, 0 to 5768\n",
      "Data columns (total 10 columns):\n",
      " #   Column             Non-Null Count  Dtype \n",
      "---  ------             --------------  ----- \n",
      " 0   agent              4390 non-null   object\n",
      " 1   price              4390 non-null   int64 \n",
      " 2   address            4390 non-null   object\n",
      " 3   beds               4390 non-null   int64 \n",
      " 4   baths              4390 non-null   int64 \n",
      " 5   receptions         4390 non-null   int64 \n",
      " 6   more_tan_5         0 non-null      object\n",
      " 7   more_than_4_baths  0 non-null      object\n",
      " 8   more_than_3_recep  0 non-null      object\n",
      " 9   post_code          4390 non-null   object\n",
      "dtypes: int64(4), object(6)\n",
      "memory usage: 377.3+ KB\n"
     ]
    }
   ],
   "source": [
    "df.info()"
   ]
  },
  {
   "cell_type": "code",
   "execution_count": 162,
   "metadata": {},
   "outputs": [],
   "source": [
    "df =df.loc[:,[\"agent\",\"address\",\"beds\",\"receptions\",\"baths\",\"post_code\"]]"
   ]
  },
  {
   "cell_type": "code",
   "execution_count": 163,
   "metadata": {},
   "outputs": [
    {
     "name": "stdout",
     "output_type": "stream",
     "text": [
      "<class 'pandas.core.frame.DataFrame'>\n",
      "Int64Index: 4390 entries, 0 to 5768\n",
      "Data columns (total 6 columns):\n",
      " #   Column      Non-Null Count  Dtype \n",
      "---  ------      --------------  ----- \n",
      " 0   agent       4390 non-null   object\n",
      " 1   address     4390 non-null   object\n",
      " 2   beds        4390 non-null   int64 \n",
      " 3   receptions  4390 non-null   int64 \n",
      " 4   baths       4390 non-null   int64 \n",
      " 5   post_code   4390 non-null   object\n",
      "dtypes: int64(3), object(3)\n",
      "memory usage: 240.1+ KB\n"
     ]
    }
   ],
   "source": [
    "df.info()"
   ]
  },
  {
   "cell_type": "code",
   "execution_count": null,
   "metadata": {},
   "outputs": [],
   "source": []
  }
 ],
 "metadata": {
  "kernelspec": {
   "display_name": "Python 3",
   "language": "python",
   "name": "python3"
  },
  "language_info": {
   "codemirror_mode": {
    "name": "ipython",
    "version": 3
   },
   "file_extension": ".py",
   "mimetype": "text/x-python",
   "name": "python",
   "nbconvert_exporter": "python",
   "pygments_lexer": "ipython3",
   "version": "3.7.4"
  }
 },
 "nbformat": 4,
 "nbformat_minor": 2
}
